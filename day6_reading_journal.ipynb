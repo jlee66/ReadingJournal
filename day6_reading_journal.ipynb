{
 "cells": [
  {
   "cell_type": "markdown",
   "metadata": {},
   "source": [
    "# Day 6 Reading Journal\n",
    "\n",
    "This journal includes several required exercises, but it is meant to encourage active reading more generally.  You should use the journal to take detailed notes, catalog questions, and explore the content from Think Python deeply.\n",
    "\n",
    "Reading: Think Python Chapters 11.1-4, 14.1-5, 14.7\n",
    "\n",
    "**Due: Thursday, September 23 at 12 noon**"
   ]
  },
  {
   "cell_type": "markdown",
   "metadata": {},
   "source": [
    "## [Chapter 11.1 - 4](http://www.greenteapress.com/thinkpython/html/thinkpython012.html)\n",
    "\n"
   ]
  },
  {
   "cell_type": "markdown",
   "metadata": {},
   "source": [
    "Quick check: In about one sentence using your own words, what is a dictionary?"
   ]
  },
  {
   "cell_type": "markdown",
   "metadata": {},
   "source": [
    "While the list has some constraints of storing data, dictionary can use almost anything to get the data"
   ]
  },
  {
   "cell_type": "markdown",
   "metadata": {
    "is_question": true,
    "problem": "Exercise 6.4"
   },
   "source": [
    "### Exercise 1\n",
    "\n",
    "Dictionaries have a [method called `get`](https://docs.python.org/2/library/stdtypes.html#mapping-types-dict) that takes a key and a default value. If the key appears in the dictionary, `get` returns the corresponding value; otherwise it returns the default value. For example:\n",
    "\n",
    "```\n",
    ">>> h = histogram('a')\n",
    ">>> print h\n",
    "{'a': 1}\n",
    ">>> h.get('a', 0)\n",
    "1\n",
    ">>> h.get('b', 0)\n",
    "0\n",
    "```\n",
    "\n",
    "Use `get` to write histogram more concisely. You should be able to eliminate the `if` statement. Add unit tests for your histogram implementation.\n"
   ]
  },
  {
   "cell_type": "code",
   "execution_count": 1,
   "metadata": {
    "collapsed": false,
    "solution": "Exercise 6.4"
   },
   "outputs": [
    {
     "data": {
      "text/plain": [
       "{'brontosaurus': 1}"
      ]
     },
     "execution_count": 1,
     "metadata": {},
     "output_type": "execute_result"
    }
   ],
   "source": [
    "def histogram(s):\n",
    "    d = dict()\n",
    "    for c in s:\n",
    "        d[s]= 1+d.get(c, 0)\n",
    "    return d\n",
    "\n",
    "histogram('brontosaurus')"
   ]
  },
  {
   "cell_type": "markdown",
   "metadata": {
    "is_question": true,
    "problem": "Exercise 6.6"
   },
   "source": [
    "### Exercise 2\n",
    "\n",
    "Dictionaries have a method called `keys` that returns the keys of the dicitonary, in no particular order, as a list.\n",
    "\n",
    "Modify `print_hst` to print the keys and their values in alphabetical order."
   ]
  },
  {
   "cell_type": "code",
   "execution_count": 5,
   "metadata": {
    "collapsed": false,
    "scrolled": true,
    "solution": "Exercise 6.6"
   },
   "outputs": [
    {
     "name": "stdout",
     "output_type": "stream",
     "text": [
      "brontosaurus 1\n"
     ]
    }
   ],
   "source": [
    "def print_hist(histogram):\n",
    "    hstolist=histogram.keys()\n",
    "    hstolist.sort()\n",
    "    for l in hstolist:\n",
    "        print l, histogram[l]\n",
    "        \n",
    "    \n",
    "h = histogram('brontosaurus')\n",
    "print_hist(h)"
   ]
  },
  {
   "cell_type": "markdown",
   "metadata": {},
   "source": [
    "## [Chapter 14](http://www.greenteapress.com/thinkpython/html/thinkpython015.html)"
   ]
  },
  {
   "cell_type": "markdown",
   "metadata": {
    "collapsed": true,
    "problem": "Exercise 6.8"
   },
   "source": [
    "## Exercise\n",
    "\n",
    "Create a function that makes a new file. The file should be called `day6_output.txt` and it should be created in the same directory as the reading assignment.\n",
    "\n",
    "You may find the str function useful. str returns a string representation of a Python object; for example, `str(10)` is the string `'10'` (not the number `10`)."
   ]
  },
  {
   "cell_type": "code",
   "execution_count": 15,
   "metadata": {
    "collapsed": false
   },
   "outputs": [
    {
     "name": "stdout",
     "output_type": "stream",
     "text": [
      "<open file 'day6_output.txt', mode 'w' at 0x7fa0c5cf9b70>\n"
     ]
    },
    {
     "data": {
      "text/plain": [
       "'/home/jlee66/ReadingJournal/day6_output.txt'"
      ]
     },
     "execution_count": 15,
     "metadata": {},
     "output_type": "execute_result"
    }
   ],
   "source": [
    "fout = open('day6_output.txt','w')\n",
    "print fout\n",
    "\n",
    "import os\n",
    "os.path.abspath('day6_output.txt')"
   ]
  },
  {
   "cell_type": "markdown",
   "metadata": {},
   "source": [
    "# Quick poll\n",
    "About how long did you spend working on this Reading Journal?"
   ]
  },
  {
   "cell_type": "markdown",
   "metadata": {},
   "source": [
    "This Reading Journal took me an hour"
   ]
  },
  {
   "cell_type": "markdown",
   "metadata": {
    "feedback_response": true
   },
   "source": [
    " "
   ]
  }
 ],
 "metadata": {
  "kernelspec": {
   "display_name": "Python 2",
   "language": "python",
   "name": "python2"
  },
  "language_info": {
   "codemirror_mode": {
    "name": "ipython",
    "version": 2
   },
   "file_extension": ".py",
   "mimetype": "text/x-python",
   "name": "python",
   "nbconvert_exporter": "python",
   "pygments_lexer": "ipython2",
   "version": "2.7.6"
  }
 },
 "nbformat": 4,
 "nbformat_minor": 0
}
