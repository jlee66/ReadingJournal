{
 "cells": [
  {
   "cell_type": "markdown",
   "metadata": {},
   "source": [
    "# Day 8 Reading Journal\n",
    "\n",
    "This journal includes several required exercises, but it is meant to encourage active reading more generally.  You should use the journal to take detailed notes, catalog questions, and explore the content from Think Python deeply.\n",
    "\n",
    "Reading: Think Python Chapter 12\n",
    "\n",
    "**Due: Thursday, September 29 at 12 noon**\n"
   ]
  },
  {
   "cell_type": "markdown",
   "metadata": {},
   "source": [
    "## [Chapter 12](http://www.greenteapress.com/thinkpython/html/thinkpython013.html)"
   ]
  },
  {
   "cell_type": "markdown",
   "metadata": {},
   "source": [
    "### Exercise 2 \n",
    "Exercise 12.2. In this example, ties are broken by comparing words, so words with the same length appear in reverse alphabetical order. For other applications you might want to break ties at ran- dom. Modify this example so that words with the same length appear in random order. Hint: see the random function in the random module."
   ]
  },
  {
   "cell_type": "code",
   "execution_count": 12,
   "metadata": {
    "collapsed": false
   },
   "outputs": [
    {
     "data": {
      "text/plain": [
       "['wonderful', 'tiggers', 'about', 'thing', 'The']"
      ]
     },
     "execution_count": 12,
     "metadata": {},
     "output_type": "execute_result"
    }
   ],
   "source": [
    "import random\n",
    "def sort_by_random_order(words):\n",
    "    t = []\n",
    "    for word in words:\n",
    "       t.append((len(word), random.random(),word))\n",
    "    t.sort(reverse=True)\n",
    "    res = []\n",
    "    for length, _, word in t:\n",
    "        res.append(word)\n",
    "    return res\n",
    "\n",
    "sort_by_random_order([\"wonderful\", \"The\",   \"about\",\"thing\", \"tiggers\"])"
   ]
  },
  {
   "cell_type": "markdown",
   "metadata": {},
   "source": [
    "### Exercise 4\n",
    "\n",
    "1. Write a program that reads a word list from a file (see Section 9.1) and prints all the sets of\n",
    "words that are anagrams.\n",
    "Here is an example of what the output might look like:\n",
    "\n",
    "     ['deltas', 'desalt', 'lasted', 'salted', 'slated', 'staled']\n",
    "     ['retainers', 'ternaries']\n",
    "     ['generating', 'greatening']\n",
    "     ['resmelts', 'smelters', 'termless']\n",
    "\n",
    "Hint: you might want to build a dictionary that maps from a set of letters to a list of words that can be spelled with those letters. The question is, how can you represent the set of letters in a way that can be used as a key?"
   ]
  },
  {
   "cell_type": "code",
   "execution_count": 1,
   "metadata": {
    "collapsed": false,
    "scrolled": false
   },
   "outputs": [
    {
     "ename": "SyntaxError",
     "evalue": "invalid syntax (<ipython-input-1-4f104cc0d3b4>, line 1)",
     "output_type": "error",
     "traceback": [
      "\u001b[0;36m  File \u001b[0;32m\"<ipython-input-1-4f104cc0d3b4>\"\u001b[0;36m, line \u001b[0;32m1\u001b[0m\n\u001b[0;31m    def make_wordlist('problem2'):\u001b[0m\n\u001b[0m                               ^\u001b[0m\n\u001b[0;31mSyntaxError\u001b[0m\u001b[0;31m:\u001b[0m invalid syntax\n"
     ]
    }
   ],
   "source": [
    "def make_wordlist('problem2'):\n",
    "    result = []\n",
    "    wordlist = open('problem2')\n",
    "    for line in wordlist:\n",
    "        word = line.strip()\n",
    "        result += [word]\n",
    "    return result\n",
    "\n",
    "wordlist = make_wordlist('problem2')\n",
    "\n",
    "def find_anagrams(list_words):\n",
    "    d = {}\n",
    "    for item in list_words:\n",
    "        letters = []\n",
    "        for letter in item:\n",
    "            letters += letter\n",
    "        r = tuple(sorted(letters))\n",
    "        if r in d:\n",
    "            d[r].append(item)\n",
    "        else:\n",
    "            d[r] = [item]\n",
    "\n",
    "    anagrams = []\n",
    "    for item in d.values():\n",
    "        if len(item) > 1:\n",
    "            anagrams += [item]\n",
    "    return anagrams"
   ]
  },
  {
   "cell_type": "markdown",
   "metadata": {},
   "source": [
    "2\\. Modify the previous program so that it prints the largest set of anagrams first, followed by the second largest set, and so on."
   ]
  },
  {
   "cell_type": "code",
   "execution_count": 11,
   "metadata": {
    "collapsed": false
   },
   "outputs": [],
   "source": [
    "def print_anagram_sets(d):\n",
    "    for v in d.values():\n",
    "        if len(v) > 1:\n",
    "            print len(v), v\n",
    "\n",
    "\n",
    "def print_anagram_sets_in_order(d):\n",
    "    t = []\n",
    "    for v in d.values():\n",
    "        if len(v) > 1:\n",
    "            t.append((len(v), v))\n",
    "\n",
    "    t.sort()\n",
    "\n",
    "    for x in t:\n",
    "        print x\n"
   ]
  },
  {
   "cell_type": "markdown",
   "metadata": {},
   "source": [
    "3\\. In Scrabble a “bingo” is when you play all seven tiles in your rack, along with a letter on the board, to form an eight-letter word. What set of 8 letters forms the most possible bingos? Hint: there are seven."
   ]
  },
  {
   "cell_type": "code",
   "execution_count": 8,
   "metadata": {
    "collapsed": false
   },
   "outputs": [
    {
     "name": "stdout",
     "output_type": "stream",
     "text": [
      "<function find_bingos at 0x7fa40eff5050>\n"
     ]
    }
   ],
   "source": [
    "def find_bingos():\n",
    "    bingos = []\n",
    "    for key in final_dict:\n",
    "        if len(key) == 8:\n",
    "            bingos.append(final_dict[key])\n",
    "    bingos.sort(key=len, reverse=True)\n",
    "    return bingos[0]\n",
    "     \n",
    "print find_bingos"
   ]
  },
  {
   "cell_type": "markdown",
   "metadata": {},
   "source": [
    "# Quick poll\n",
    "About how long did you spend working on this Reading Journal?"
   ]
  },
  {
   "cell_type": "markdown",
   "metadata": {
    "collapsed": true
   },
   "source": [
    "It took me about 4 hours. This reading journal was very difficult for me. "
   ]
  },
  {
   "cell_type": "markdown",
   "metadata": {},
   "source": [
    " "
   ]
  }
 ],
 "metadata": {
  "anaconda-cloud": {},
  "kernelspec": {
   "display_name": "Python 2",
   "language": "python",
   "name": "python2"
  },
  "language_info": {
   "codemirror_mode": {
    "name": "ipython",
    "version": 2
   },
   "file_extension": ".py",
   "mimetype": "text/x-python",
   "name": "python",
   "nbconvert_exporter": "python",
   "pygments_lexer": "ipython2",
   "version": "2.7.6"
  }
 },
 "nbformat": 4,
 "nbformat_minor": 0
}
