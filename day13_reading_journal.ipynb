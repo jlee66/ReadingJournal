{
 "cells": [
  {
   "cell_type": "markdown",
   "metadata": {},
   "source": [
    "# Day 13 Reading Journal\n",
    "\n",
    "This journal includes review questions relating to Think Python Chapter 16.\n",
    "\n",
    "**Due: Thursday, October 20 at 12 noon**"
   ]
  },
  {
   "cell_type": "markdown",
   "metadata": {},
   "source": [
    "## Exercise 16-1.\n",
    "Write a function called `print_time` that takes a Time object and prints it in the form `hour:minute:second`.\n",
    "Hint: the format sequence `'%.2d'` prints an integer using at least two digits, including a leading zero if necessary."
   ]
  },
  {
   "cell_type": "code",
   "execution_count": 7,
   "metadata": {
    "collapsed": false
   },
   "outputs": [
    {
     "name": "stdout",
     "output_type": "stream",
     "text": [
      "11:59:30\n"
     ]
    }
   ],
   "source": [
    "class Time(object):\n",
    "    \"\"\"Represents the time of day.\n",
    "    attributes: hour, minute, second\n",
    "    \"\"\"\n",
    "\n",
    "time = Time()\n",
    "time.hour = 11\n",
    "time.minute = 59\n",
    "time. second = 30\n",
    "\n",
    "def print_time(time):\n",
    "    print\"%.2d:%.2d:%.2d\" % (time.hour, time.minute, time.second)\n",
    "    \n",
    "print_time(time)"
   ]
  },
  {
   "cell_type": "markdown",
   "metadata": {},
   "source": []
  },
  {
   "cell_type": "markdown",
   "metadata": {},
   "source": [
    "## Exercise 16-2\n",
    "Write a boolean function called `is_after` that takes two Time objects, `t1` and `t2`, and returns `True` if `t1` follows `t2` chronologically and `False` otherwise.\n",
    "\n",
    "Challenge: don’t use an `if` statement."
   ]
  },
  {
   "cell_type": "code",
   "execution_count": 9,
   "metadata": {
    "collapsed": false
   },
   "outputs": [
    {
     "name": "stdout",
     "output_type": "stream",
     "text": [
      "True\n"
     ]
    }
   ],
   "source": [
    "import time\n",
    "import datetime\n",
    "\n",
    "class Time(object):\n",
    "    def __init__(self, year=2010, month=1, day=1, hour=12, minute=0, sec=0):\n",
    "        self.date=datetime.datetime(year, month, day, hour, minute, sec)\n",
    "        \n",
    "    def mktime(self):\n",
    "        return time.mktime(self.date.timetuple())\n",
    "\n",
    "t1 = Time(2015,1,3,15)\n",
    "t2 = Time(2015,1,3,1)\n",
    "\n",
    "def is_after(time1, time2):\n",
    "    return time1.mktime() > time2.mktime()\n",
    "\n",
    "print is_after(t1,t2)"
   ]
  },
  {
   "cell_type": "markdown",
   "metadata": {},
   "source": [
    "## Modifiers\n",
    "Complete the code below, such that it demonstrates:\n",
    "\n",
    "* `increment` behaving as specified\n",
    "* `increment` with incorrect behavior"
   ]
  },
  {
   "cell_type": "code",
   "execution_count": 30,
   "metadata": {
    "collapsed": false
   },
   "outputs": [
    {
     "name": "stdout",
     "output_type": "stream",
     "text": [
      "10:30:45\n",
      "10:31:30\n",
      "02:46:150\n"
     ]
    }
   ],
   "source": [
    "class Time(object):\n",
    "    pass\n",
    "\n",
    "def increment(time, seconds):\n",
    "    time.second += seconds\n",
    "    if time.second >= 60:\n",
    "        time.second -= 60\n",
    "        time.minute += 1\n",
    "    if time.minute >= 60:\n",
    "        time.minute -= 60\n",
    "        time.hour += 1\n",
    "    if time.hour > 12:\n",
    "        time.hour -= 12\n",
    "\n",
    "t1 = Time()\n",
    "t1.hour = 10\n",
    "t1.minute = 30\n",
    "t1.second = 0\n",
    "\n",
    "t2 = Time()\n",
    "t2.hour = 2\n",
    "t2.minute = 45\n",
    "t2.second = 10\n",
    "\n",
    "\n",
    "t1.second = t1.second + 45\n",
    "print_time(t1)\n",
    "increment(t1,45)\n",
    "print_time(t1)\n",
    "\n",
    "increment(t2,200)\n",
    "print_time(t2)\n",
    "\n"
   ]
  },
  {
   "cell_type": "markdown",
   "metadata": {},
   "source": [
    "## Exercise 16-3 (adapted)\n",
    "Fix `increment`, and demonstrate that has the correct behavior in the case that was a problem above.\n",
    "\n",
    "Unlike the version of this question in Think Python, you are allowed (but not required) to use loops."
   ]
  },
  {
   "cell_type": "code",
   "execution_count": 33,
   "metadata": {
    "collapsed": false
   },
   "outputs": [
    {
     "name": "stdout",
     "output_type": "stream",
     "text": [
      "10:45:05\n"
     ]
    }
   ],
   "source": [
    "class Time(object):\n",
    "    \"\"\"Represents the time of day.\n",
    "    attributes: hour, minute, second\n",
    "    \"\"\"\n",
    "\n",
    "def increment(time, seconds):\n",
    "    time.second += seconds\n",
    "    while(time.second >= 60):\n",
    "        time.second -= 60\n",
    "        time.minute += 1\n",
    "    while(time.minute >= 60):\n",
    "        time.minute -= 60\n",
    "        time.hour += 1\n",
    "    while(time.hour > 12):\n",
    "        time.hour -= 12\n",
    "\n",
    "t2 = Time()\n",
    "t2.hour = 10\n",
    "t2.minute = 40\n",
    "t2.second = 5\n",
    "\n",
    "increment(t2,300)\n",
    "print_time(t2)"
   ]
  },
  {
   "cell_type": "markdown",
   "metadata": {},
   "source": [
    "## PyGame Tutorial\n",
    "Add a link to the PyGame tutorial that you studied.\n",
    "\n",
    "Write a sentence (or more) that summarize the main points of the tutorial."
   ]
  },
  {
   "cell_type": "markdown",
   "metadata": {},
   "source": [
    "pygame.org/doc/tut/intro/intro.html\n",
    "\n",
    "This tutorial provided me to understand general concept of pygame, its history, and exmamples. It is true that this tutorial is somewhat shorter than the other tutorials that I have read for the project, yet it provides efficient information. "
   ]
  },
  {
   "cell_type": "markdown",
   "metadata": {},
   "source": [
    "# Quick poll\n",
    "About how long did you spend working on this Reading Journal?"
   ]
  },
  {
   "cell_type": "code",
   "execution_count": null,
   "metadata": {
    "collapsed": true
   },
   "outputs": [],
   "source": [
    "I spent about two hours. "
   ]
  },
  {
   "cell_type": "markdown",
   "metadata": {},
   "source": [
    " "
   ]
  }
 ],
 "metadata": {
  "anaconda-cloud": {},
  "kernelspec": {
   "display_name": "Python 2",
   "language": "python",
   "name": "python2"
  },
  "language_info": {
   "codemirror_mode": {
    "name": "ipython",
    "version": 2
   },
   "file_extension": ".py",
   "mimetype": "text/x-python",
   "name": "python",
   "nbconvert_exporter": "python",
   "pygments_lexer": "ipython2",
   "version": "2.7.6"
  }
 },
 "nbformat": 4,
 "nbformat_minor": 0
}
